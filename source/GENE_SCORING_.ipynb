{
  "cells": [
    {
      "cell_type": "markdown",
      "metadata": {
        "id": "view-in-github",
        "colab_type": "text"
      },
      "source": [
        "<a href=\"https://colab.research.google.com/github/Shamima21/CancerGeneIdentification/blob/main/source/GENE_SCORING_.ipynb\" target=\"_parent\"><img src=\"https://colab.research.google.com/assets/colab-badge.svg\" alt=\"Open In Colab\"/></a>"
      ]
    },
    {
      "cell_type": "code",
      "execution_count": null,
      "metadata": {
        "id": "67-dfaieF2gh"
      },
      "outputs": [],
      "source": [
        "import pandas as pd\n",
        "import matplotlib.pyplot as plt\n",
        "import numpy as np\n",
        "from mpl_toolkits.mplot3d import Axes3D\n",
        "\n"
      ]
    },
    {
      "cell_type": "code",
      "source": [
        "df = pd.read_csv(\"/content/sample_data/Results(Johnson+SMOTE) V3_ GENE SELECTION_on Leukemia(Wrapper+Meta Search) - Copy of Gene Scoring with gene name.csv\")\n",
        "#df = pd.read_csv(\"/content/sample_data/A Gene Scoring Prostrate Cancer.csv\")\n",
        "\n",
        "#scoring with f1\n",
        "gene_metaheuristics = {}\n",
        "f1_scores = {}\n",
        "\n",
        "for index, row in df.iterrows():\n",
        "    metaheuristic = row['Metaheuristics']\n",
        "    genes = row['Genes'].split(',')\n",
        "    f1 = row['F-MEASURE']\n",
        "\n",
        "    for gene in genes:\n",
        "        gene = gene.strip()\n",
        "        if gene in gene_metaheuristics:\n",
        "            gene_metaheuristics[gene].append(metaheuristic)\n",
        "            f1_scores[gene] += f1\n",
        "        else:\n",
        "            gene_metaheuristics[gene] = [metaheuristic]\n",
        "            f1_scores[gene] = f1\n",
        "\n",
        "sorted_genes = sorted(gene_metaheuristics.keys(), key=lambda x: f1_scores[x], reverse=True)\n",
        "\n",
        "top_genes = sorted_genes[:31]\n",
        "\n",
        "for gene in top_genes:\n",
        "    metaheuristics = gene_metaheuristics[gene]\n",
        "    total_f1 = f1_scores[gene]\n",
        "    print(f\"Gene: {gene}, Metaheuristics: {metaheuristics}, F-Measure Score: {total_f1:.4f}\")\n",
        "\n",
        "print(f\"\\nTop {len(top_genes)} genes are:\\n\")\n",
        "for gene in top_genes:\n",
        "        gene = gene.strip()\n",
        "        if gene in top_genes:\n",
        "            print(gene)\n"
      ],
      "metadata": {
        "colab": {
          "base_uri": "https://localhost:8080/"
        },
        "id": "2G1-1AeL4RC6",
        "outputId": "8b462d3c-73e9-47ba-8742-82239e60d918"
      },
      "execution_count": null,
      "outputs": [
        {
          "output_type": "stream",
          "name": "stdout",
          "text": [
            "Gene: , Metaheuristics: ['EA (37)', 'MOEA(NSGA2) (02)', 'FPA(07)', 'WOLF (16)', 'BEE (13)', 'ANT (16)', 'GENETIC (30)', 'MOEA(ENORA) (04)', 'BEE(11)', 'EA(38)', 'FPA (05)', 'WOLF(15)', 'ANT(15)', 'GENETIC(24)', 'MOEA(ENORA)(02)', 'MOEA(NSGA2)(02)', 'MOEA(ENORA) (04)', 'WOLF (11)', 'FPA(08)', 'BEE(07)', 'MOEA(NSGA2) (03)', 'ANT(12)', 'GENETIC(14)', 'EA(32)', 'MOEA(NSGA2) (01)', 'GENETIC (09)', 'BEE(13)', 'MOEA(ENORA) (02)', 'Flower (04)', 'WOLF (06)', 'ANT (12)', 'EA (04)', 'ANT (28)', 'MOEA(NSGA2) (06)', 'MOEA(ENORA) (04)', 'EA (43)', 'FPA (11)', 'BEE (11)', 'GENETIC (30)', 'WOLF(13)'], F-Measure Score: 34.2600\n",
            "Gene: CD33, Metaheuristics: ['MOEA(NSGA2) (02)', 'BEE (13)', 'MOEA(ENORA) (04)', 'EA(38)', 'FPA (05)', 'MOEA(ENORA)(02)', 'MOEA(NSGA2)(02)', 'MOEA(ENORA) (04)', 'WOLF (11)', 'MOEA(NSGA2) (03)', 'WOLF (06)', 'ANT (28)', 'MOEA(NSGA2) (06)', 'MOEA(ENORA) (04)', 'FPA (11)'], F-Measure Score: 12.4540\n",
            "Gene: CCND3, Metaheuristics: ['EA (37)', 'GENETIC (30)', 'EA(38)', 'WOLF(15)', 'MOEA(ENORA) (04)', 'WOLF (11)', 'FPA(08)', 'ANT(12)', 'EA(32)', 'GENETIC (09)', 'WOLF (06)', 'ANT (28)', 'EA (43)', 'WOLF(13)'], F-Measure Score: 12.3870\n",
            "Gene: UBE2V2, Metaheuristics: ['EA (37)', 'WOLF (16)', 'ANT (16)', 'GENETIC (30)', 'WOLF (11)', 'BEE(07)', 'BEE(13)', 'Flower (04)', 'WOLF (06)', 'ANT (12)', 'ANT (28)', 'EA (43)', 'GENETIC (30)', 'WOLF(13)'], F-Measure Score: 12.3700\n",
            "Gene: TCF3, Metaheuristics: ['MOEA(NSGA2) (02)', 'FPA(07)', 'FPA(07)', 'WOLF (16)', 'BEE (13)', 'ANT (16)', 'GENETIC (30)', 'EA(38)', 'WOLF(15)', 'MOEA(NSGA2) (03)', 'MOEA(NSGA2) (01)', 'ANT (12)', 'EA (04)', 'WOLF(13)'], F-Measure Score: 11.8310\n",
            "Gene: LYZ, Metaheuristics: ['FPA(07)', 'WOLF (16)', 'GENETIC (30)', 'WOLF(15)', 'GENETIC(24)', 'EA(32)', 'EA(32)', 'GENETIC (09)', 'EA (04)', 'EA (43)', 'EA (43)', 'GENETIC (30)', 'WOLF(13)'], F-Measure Score: 11.5850\n",
            "Gene: NME4, Metaheuristics: ['WOLF (16)', 'ANT (16)', 'GENETIC (30)', 'MOEA(ENORA) (04)', 'BEE(11)', 'WOLF(15)', 'ANT(15)', 'GENETIC(24)', 'MOEA(ENORA)(02)', 'EA(32)', 'MOEA(NSGA2) (06)', 'MOEA(ENORA) (04)', 'GENETIC (30)'], F-Measure Score: 11.5040\n",
            "Gene: SERPINB1, Metaheuristics: ['EA (37)', 'WOLF (16)', 'EA(38)', 'WOLF(15)', 'BEE(07)', 'ANT(12)', 'EA(32)', 'ANT (12)', 'ANT (28)', 'EA (43)', 'FPA (11)'], F-Measure Score: 9.6280\n",
            "Gene: ZNF91, Metaheuristics: ['EA (37)', 'ANT (16)', 'BEE(11)', 'EA(38)', 'FPA(08)', 'BEE(07)', 'ANT(12)', 'GENETIC(14)', 'BEE(13)', 'MOEA(NSGA2) (06)', 'MOEA(ENORA) (04)'], F-Measure Score: 9.3770\n",
            "Gene: MLLT11, Metaheuristics: ['EA (37)', 'BEE(11)', 'EA(38)', 'FPA(08)', 'BEE(07)', 'ANT(12)', 'GENETIC (09)', 'BEE(13)', 'MOEA(ENORA) (02)', 'ANT (12)'], F-Measure Score: 8.8570\n",
            "Gene: MYO1F, Metaheuristics: ['EA (37)', 'WOLF (16)', 'GENETIC (30)', 'EA(38)', 'WOLF(15)', 'GENETIC(24)', 'WOLF (11)', 'GENETIC(14)', 'EA(32)', 'BEE(13)'], F-Measure Score: 8.7700\n",
            "Gene: MYB, Metaheuristics: ['BEE (13)', 'ANT (16)', 'GENETIC (30)', 'GENETIC(24)', 'EA(32)', 'EA (43)', 'BEE (11)', 'GENETIC (30)', 'WOLF(13)'], F-Measure Score: 8.2440\n",
            "Gene: ACADM, Metaheuristics: ['EA (37)', 'EA(38)', 'WOLF (11)', 'GENETIC (09)', 'Flower (04)', 'ANT (12)', 'ANT (28)', 'EA (43)', 'WOLF(13)'], F-Measure Score: 8.1600\n",
            "Gene: CXCR4, Metaheuristics: ['GENETIC (30)', 'WOLF (11)', 'GENETIC(14)', 'EA(32)', 'ANT (28)', 'EA (43)', 'BEE (11)', 'GENETIC (30)', 'WOLF(13)'], F-Measure Score: 7.8980\n",
            "Gene: IFI16, Metaheuristics: ['WOLF (16)', 'ANT (16)', 'GENETIC (30)', 'EA(38)', 'ANT(12)', 'GENETIC(14)', 'EA (43)', 'FPA (11)', 'BEE (11)'], F-Measure Score: 7.7480\n",
            "Gene: SMARCA4, Metaheuristics: ['EA (37)', 'EA (37)', 'GENETIC (30)', 'EA(38)', 'EA(32)', 'EA(32)', 'EA (43)', 'GENETIC (30)'], F-Measure Score: 7.3190\n",
            "Gene: AIF1, Metaheuristics: ['WOLF (16)', 'BEE (13)', 'ANT (16)', 'GENETIC (30)', 'EA(38)', 'WOLF(15)', 'ANT(15)', 'ANT(12)'], F-Measure Score: 7.1210\n",
            "Gene: DAPK1, Metaheuristics: ['WOLF (16)', 'EA(38)', 'FPA (05)', 'ANT(15)', 'GENETIC(24)', 'FPA (11)', 'BEE (11)', 'GENETIC (30)'], F-Measure Score: 7.1030\n",
            "Gene: IL18, Metaheuristics: ['BEE (13)', 'WOLF (11)', 'WOLF (06)', 'ANT (28)', 'EA (43)', 'FPA (11)', 'BEE (11)', 'GENETIC (30)'], F-Measure Score: 7.0590\n",
            "Gene: SRPK2, Metaheuristics: ['BEE (13)', 'GENETIC (30)', 'GENETIC (09)', 'ANT (28)', 'MOEA(NSGA2) (06)', 'MOEA(ENORA) (04)', 'BEE (11)', 'GENETIC (30)'], F-Measure Score: 7.0410\n",
            "Gene: LY75-CD302, Metaheuristics: ['EA (37)', 'ANT (16)', 'GENETIC (30)', 'ANT(15)', 'GENETIC(24)', 'GENETIC(14)', 'EA(32)', 'ANT (28)'], F-Measure Score: 6.9640\n",
            "Gene: GLRX, Metaheuristics: ['EA (37)', 'WOLF (16)', 'EA(38)', 'ANT(15)', 'GENETIC(24)', 'BEE(13)', 'EA (43)'], F-Measure Score: 6.3870\n",
            "Gene: RBBP4, Metaheuristics: ['MOEA(ENORA) (04)', 'GENETIC (09)', 'ANT (28)', 'EA (43)', 'FPA (11)', 'BEE (11)', 'GENETIC (30)'], F-Measure Score: 6.2890\n",
            "Gene: VPREB1, Metaheuristics: ['EA (37)', 'EA(38)', 'FPA (05)', 'MOEA(NSGA2)(02)', 'ANT(12)', 'EA(32)', 'ANT (28)'], F-Measure Score: 6.1910\n",
            "Gene: ITGB2, Metaheuristics: ['ANT (16)', 'GENETIC (30)', 'EA(38)', 'ANT(15)', 'EA(32)', 'BEE(13)', 'EA (43)'], F-Measure Score: 6.1750\n",
            "Gene: CD19, Metaheuristics: ['EA (37)', 'GENETIC (30)', 'EA(38)', 'EA(38)', 'EA(32)', 'FPA (11)', 'BEE (11)'], F-Measure Score: 6.1620\n",
            "Gene: RHOH, Metaheuristics: ['GENETIC (30)', 'EA(38)', 'ANT(15)', 'BEE(13)', 'Flower (04)', 'ANT (12)', 'EA (43)'], F-Measure Score: 6.0820\n",
            "Gene: PYGL, Metaheuristics: ['ANT (16)', 'GENETIC (30)', 'EA(38)', 'GENETIC(24)', 'GENETIC(14)', 'ANT (28)', 'EA (43)'], F-Measure Score: 6.0280\n",
            "Gene: PCBD1, Metaheuristics: ['EA (37)', 'BEE(11)', 'EA(38)', 'GENETIC(14)', 'EA(32)', 'EA (43)', 'FPA (11)'], F-Measure Score: 6.0260\n",
            "Gene: PSMB9, Metaheuristics: ['BEE (13)', 'MOEA(NSGA2) (03)', 'EA(32)', 'BEE(13)', 'EA (04)', 'FPA (11)', 'GENETIC (30)'], F-Measure Score: 5.9950\n",
            "Gene: POU2AF1, Metaheuristics: ['EA (37)', 'WOLF(15)', 'FPA(08)', 'EA(32)', 'BEE (11)', 'WOLF(13)'], F-Measure Score: 5.5350\n",
            "\n",
            "Top 31 genes are:\n",
            "\n",
            "\n",
            "CD33\n",
            "CCND3\n",
            "UBE2V2\n",
            "TCF3\n",
            "LYZ\n",
            "NME4\n",
            "SERPINB1\n",
            "ZNF91\n",
            "MLLT11\n",
            "MYO1F\n",
            "MYB\n",
            "ACADM\n",
            "CXCR4\n",
            "IFI16\n",
            "SMARCA4\n",
            "AIF1\n",
            "DAPK1\n",
            "IL18\n",
            "SRPK2\n",
            "LY75-CD302\n",
            "GLRX\n",
            "RBBP4\n",
            "VPREB1\n",
            "ITGB2\n",
            "CD19\n",
            "RHOH\n",
            "PYGL\n",
            "PCBD1\n",
            "PSMB9\n",
            "POU2AF1\n"
          ]
        }
      ]
    },
    {
      "cell_type": "code",
      "source": [
        "#scoring with recall\n",
        "gene_metaheuristics = {}\n",
        "recall_scores = {}\n",
        "\n",
        "for index, row in df.iterrows():\n",
        "    metaheuristic = row['Metaheuristics']\n",
        "    genes = row['Genes'].split(',')\n",
        "    recall = row['RECALL']\n",
        "\n",
        "    for gene in genes:\n",
        "        gene = gene.strip()\n",
        "        if gene in gene_metaheuristics:\n",
        "            gene_metaheuristics[gene].append(metaheuristic)\n",
        "            recall_scores[gene] += recall\n",
        "        else:\n",
        "            gene_metaheuristics[gene] = [metaheuristic]\n",
        "            recall_scores[gene] = recall\n",
        "\n",
        "sorted_genes = sorted(gene_metaheuristics.keys(), key=lambda x: recall_scores[x], reverse=True)\n",
        "\n",
        "top_genes2 = sorted_genes[:31]\n",
        "\n",
        "for gene in top_genes2:\n",
        "    metaheuristics = gene_metaheuristics[gene]\n",
        "    total_recall = recall_scores[gene]\n",
        "    print(f\"Gene: {gene}, Metaheuristics: {metaheuristics}, Recall Score: {total_recall:.4f}\")\n",
        "\n",
        "print(f\"\\nTop {len(top_genes2)} recall based genes are:\\n\")\n",
        "for gene in top_genes2:\n",
        "        gene = gene.strip()\n",
        "        if gene in top_genes2:\n",
        "            print(gene)\n",
        "\n"
      ],
      "metadata": {
        "colab": {
          "base_uri": "https://localhost:8080/"
        },
        "id": "sNi2gRR11opp",
        "outputId": "acaf5705-753d-4103-9383-149aa2ed7ea2"
      },
      "execution_count": null,
      "outputs": [
        {
          "output_type": "stream",
          "name": "stdout",
          "text": [
            "Gene: , Metaheuristics: ['EA (37)', 'MOEA(NSGA2) (02)', 'FPA(07)', 'WOLF (16)', 'BEE (13)', 'ANT (16)', 'GENETIC (30)', 'MOEA(ENORA) (04)', 'BEE(11)', 'EA(38)', 'FPA (05)', 'WOLF(15)', 'ANT(15)', 'GENETIC(24)', 'MOEA(ENORA)(02)', 'MOEA(NSGA2)(02)', 'MOEA(ENORA) (04)', 'WOLF (11)', 'FPA(08)', 'BEE(07)', 'MOEA(NSGA2) (03)', 'ANT(12)', 'GENETIC(14)', 'EA(32)', 'MOEA(NSGA2) (01)', 'GENETIC (09)', 'BEE(13)', 'MOEA(ENORA) (02)', 'Flower (04)', 'WOLF (06)', 'ANT (12)', 'EA (04)', 'ANT (28)', 'MOEA(NSGA2) (06)', 'MOEA(ENORA) (04)', 'EA (43)', 'FPA (11)', 'BEE (11)', 'GENETIC (30)', 'WOLF(13)'], Recall Score: 34.5320\n",
            "Gene: CD33, Metaheuristics: ['MOEA(NSGA2) (02)', 'BEE (13)', 'MOEA(ENORA) (04)', 'EA(38)', 'FPA (05)', 'MOEA(ENORA)(02)', 'MOEA(NSGA2)(02)', 'MOEA(ENORA) (04)', 'WOLF (11)', 'MOEA(NSGA2) (03)', 'WOLF (06)', 'ANT (28)', 'MOEA(NSGA2) (06)', 'MOEA(ENORA) (04)', 'FPA (11)'], Recall Score: 12.6670\n",
            "Gene: CCND3, Metaheuristics: ['EA (37)', 'GENETIC (30)', 'EA(38)', 'WOLF(15)', 'MOEA(ENORA) (04)', 'WOLF (11)', 'FPA(08)', 'ANT(12)', 'EA(32)', 'GENETIC (09)', 'WOLF (06)', 'ANT (28)', 'EA (43)', 'WOLF(13)'], Recall Score: 12.4670\n",
            "Gene: UBE2V2, Metaheuristics: ['EA (37)', 'WOLF (16)', 'ANT (16)', 'GENETIC (30)', 'WOLF (11)', 'BEE(07)', 'BEE(13)', 'Flower (04)', 'WOLF (06)', 'ANT (12)', 'ANT (28)', 'EA (43)', 'GENETIC (30)', 'WOLF(13)'], Recall Score: 12.4650\n",
            "Gene: TCF3, Metaheuristics: ['MOEA(NSGA2) (02)', 'FPA(07)', 'FPA(07)', 'WOLF (16)', 'BEE (13)', 'ANT (16)', 'GENETIC (30)', 'EA(38)', 'WOLF(15)', 'MOEA(NSGA2) (03)', 'MOEA(NSGA2) (01)', 'ANT (12)', 'EA (04)', 'WOLF(13)'], Recall Score: 11.9320\n",
            "Gene: LYZ, Metaheuristics: ['FPA(07)', 'WOLF (16)', 'GENETIC (30)', 'WOLF(15)', 'GENETIC(24)', 'EA(32)', 'EA(32)', 'GENETIC (09)', 'EA (04)', 'EA (43)', 'EA (43)', 'GENETIC (30)', 'WOLF(13)'], Recall Score: 11.5990\n",
            "Gene: NME4, Metaheuristics: ['WOLF (16)', 'ANT (16)', 'GENETIC (30)', 'MOEA(ENORA) (04)', 'BEE(11)', 'WOLF(15)', 'ANT(15)', 'GENETIC(24)', 'MOEA(ENORA)(02)', 'EA(32)', 'MOEA(NSGA2) (06)', 'MOEA(ENORA) (04)', 'GENETIC (30)'], Recall Score: 11.5330\n",
            "Gene: SERPINB1, Metaheuristics: ['EA (37)', 'WOLF (16)', 'EA(38)', 'WOLF(15)', 'BEE(07)', 'ANT(12)', 'EA(32)', 'ANT (12)', 'ANT (28)', 'EA (43)', 'FPA (11)'], Recall Score: 9.6670\n",
            "Gene: ZNF91, Metaheuristics: ['EA (37)', 'ANT (16)', 'BEE(11)', 'EA(38)', 'FPA(08)', 'BEE(07)', 'ANT(12)', 'GENETIC(14)', 'BEE(13)', 'MOEA(NSGA2) (06)', 'MOEA(ENORA) (04)'], Recall Score: 9.4000\n",
            "Gene: MLLT11, Metaheuristics: ['EA (37)', 'BEE(11)', 'EA(38)', 'FPA(08)', 'BEE(07)', 'ANT(12)', 'GENETIC (09)', 'BEE(13)', 'MOEA(ENORA) (02)', 'ANT (12)'], Recall Score: 8.8660\n",
            "Gene: MYO1F, Metaheuristics: ['EA (37)', 'WOLF (16)', 'GENETIC (30)', 'EA(38)', 'WOLF(15)', 'GENETIC(24)', 'WOLF (11)', 'GENETIC(14)', 'EA(32)', 'BEE(13)'], Recall Score: 8.8010\n",
            "Gene: MYB, Metaheuristics: ['BEE (13)', 'ANT (16)', 'GENETIC (30)', 'GENETIC(24)', 'EA(32)', 'EA (43)', 'BEE (11)', 'GENETIC (30)', 'WOLF(13)'], Recall Score: 8.2650\n",
            "Gene: ACADM, Metaheuristics: ['EA (37)', 'EA(38)', 'WOLF (11)', 'GENETIC (09)', 'Flower (04)', 'ANT (12)', 'ANT (28)', 'EA (43)', 'WOLF(13)'], Recall Score: 8.1990\n",
            "Gene: CXCR4, Metaheuristics: ['GENETIC (30)', 'WOLF (11)', 'GENETIC(14)', 'EA(32)', 'ANT (28)', 'EA (43)', 'BEE (11)', 'GENETIC (30)', 'WOLF(13)'], Recall Score: 7.9330\n",
            "Gene: IFI16, Metaheuristics: ['WOLF (16)', 'ANT (16)', 'GENETIC (30)', 'EA(38)', 'ANT(12)', 'GENETIC(14)', 'EA (43)', 'FPA (11)', 'BEE (11)'], Recall Score: 7.8000\n",
            "Gene: SMARCA4, Metaheuristics: ['EA (37)', 'EA (37)', 'GENETIC (30)', 'EA(38)', 'EA(32)', 'EA(32)', 'EA (43)', 'GENETIC (30)'], Recall Score: 7.3340\n",
            "Gene: AIF1, Metaheuristics: ['WOLF (16)', 'BEE (13)', 'ANT (16)', 'GENETIC (30)', 'EA(38)', 'WOLF(15)', 'ANT(15)', 'ANT(12)'], Recall Score: 7.1340\n",
            "Gene: DAPK1, Metaheuristics: ['WOLF (16)', 'EA(38)', 'FPA (05)', 'ANT(15)', 'GENETIC(24)', 'FPA (11)', 'BEE (11)', 'GENETIC (30)'], Recall Score: 7.1330\n",
            "Gene: IL18, Metaheuristics: ['BEE (13)', 'WOLF (11)', 'WOLF (06)', 'ANT (28)', 'EA (43)', 'FPA (11)', 'BEE (11)', 'GENETIC (30)'], Recall Score: 7.1320\n",
            "Gene: SRPK2, Metaheuristics: ['BEE (13)', 'GENETIC (30)', 'GENETIC (09)', 'ANT (28)', 'MOEA(NSGA2) (06)', 'MOEA(ENORA) (04)', 'BEE (11)', 'GENETIC (30)'], Recall Score: 7.0660\n",
            "Gene: LY75-CD302, Metaheuristics: ['EA (37)', 'ANT (16)', 'GENETIC (30)', 'ANT(15)', 'GENETIC(24)', 'GENETIC(14)', 'EA(32)', 'ANT (28)'], Recall Score: 7.0010\n",
            "Gene: GLRX, Metaheuristics: ['EA (37)', 'WOLF (16)', 'EA(38)', 'ANT(15)', 'GENETIC(24)', 'BEE(13)', 'EA (43)'], Recall Score: 6.4000\n",
            "Gene: RBBP4, Metaheuristics: ['MOEA(ENORA) (04)', 'GENETIC (09)', 'ANT (28)', 'EA (43)', 'FPA (11)', 'BEE (11)', 'GENETIC (30)'], Recall Score: 6.3320\n",
            "Gene: VPREB1, Metaheuristics: ['EA (37)', 'EA(38)', 'FPA (05)', 'MOEA(NSGA2)(02)', 'ANT(12)', 'EA(32)', 'ANT (28)'], Recall Score: 6.2020\n",
            "Gene: CD19, Metaheuristics: ['EA (37)', 'GENETIC (30)', 'EA(38)', 'EA(38)', 'EA(32)', 'FPA (11)', 'BEE (11)'], Recall Score: 6.2010\n",
            "Gene: ITGB2, Metaheuristics: ['ANT (16)', 'GENETIC (30)', 'EA(38)', 'ANT(15)', 'EA(32)', 'BEE(13)', 'EA (43)'], Recall Score: 6.2010\n",
            "Gene: RHOH, Metaheuristics: ['GENETIC (30)', 'EA(38)', 'ANT(15)', 'BEE(13)', 'Flower (04)', 'ANT (12)', 'EA (43)'], Recall Score: 6.1340\n",
            "Gene: PCBD1, Metaheuristics: ['EA (37)', 'BEE(11)', 'EA(38)', 'GENETIC(14)', 'EA(32)', 'EA (43)', 'FPA (11)'], Recall Score: 6.0670\n",
            "Gene: PSMB9, Metaheuristics: ['BEE (13)', 'MOEA(NSGA2) (03)', 'EA(32)', 'BEE(13)', 'EA (04)', 'FPA (11)', 'GENETIC (30)'], Recall Score: 6.0670\n",
            "Gene: PYGL, Metaheuristics: ['ANT (16)', 'GENETIC (30)', 'EA(38)', 'GENETIC(24)', 'GENETIC(14)', 'ANT (28)', 'EA (43)'], Recall Score: 6.0670\n",
            "Gene: POU2AF1, Metaheuristics: ['EA (37)', 'WOLF(15)', 'FPA(08)', 'EA(32)', 'BEE (11)', 'WOLF(13)'], Recall Score: 5.5330\n",
            "\n",
            "Top 31 recall based genes are:\n",
            "\n",
            "\n",
            "CD33\n",
            "CCND3\n",
            "UBE2V2\n",
            "TCF3\n",
            "LYZ\n",
            "NME4\n",
            "SERPINB1\n",
            "ZNF91\n",
            "MLLT11\n",
            "MYO1F\n",
            "MYB\n",
            "ACADM\n",
            "CXCR4\n",
            "IFI16\n",
            "SMARCA4\n",
            "AIF1\n",
            "DAPK1\n",
            "IL18\n",
            "SRPK2\n",
            "LY75-CD302\n",
            "GLRX\n",
            "RBBP4\n",
            "VPREB1\n",
            "CD19\n",
            "ITGB2\n",
            "RHOH\n",
            "PCBD1\n",
            "PSMB9\n",
            "PYGL\n",
            "POU2AF1\n"
          ]
        }
      ]
    },
    {
      "cell_type": "code",
      "source": [
        "# Sort the recall scores and select the top 20 genes\n",
        "sorted_recall_scores = dict(sorted(recall_scores.items(), key=lambda x: x[1], reverse=True))\n",
        "genes = list(sorted_recall_scores.keys())[:31]\n",
        "recalls = list(sorted_recall_scores.values())[:31]\n",
        "\n",
        "# Define a colormap and normalize the recall scores\n",
        "colormap = plt.get_cmap('viridis')  # You can choose any colormap you prefer\n",
        "normalize = plt.Normalize(min(recalls), max(recalls))\n",
        "\n",
        "# Create a bar graph with colors based on recall scores\n",
        "fig, ax = plt.subplots(figsize=(10,5))\n",
        "bars = plt.barh(genes, recalls, color=colormap(normalize(recalls)))\n",
        "\n",
        "# Add a color bar to the graph\n",
        "sm = plt.cm.ScalarMappable(cmap=colormap, norm=normalize)\n",
        "sm.set_array([])\n",
        "cbar = plt.colorbar(sm)\n",
        "cbar.set_label('Score Intensity')\n",
        "\n",
        "# Label the graph and invert the y-axis for better readability\n",
        "plt.xlabel('Scores')\n",
        "plt.ylabel('Genes')\n",
        "plt.title(f'F-measure-based Scoring of Top 30 Genes')\n",
        "plt.gca().invert_yaxis()\n",
        "\n",
        "# Save the graph as a PDF\n",
        "plt.savefig('/content/sample_data/Leukemia Cancer top_30_genes_scores.pdf')\n",
        "\n",
        "# Show the graph\n",
        "plt.tight_layout()\n",
        "plt.show()"
      ],
      "metadata": {
        "id": "QaEAiDhxOelX",
        "colab": {
          "base_uri": "https://localhost:8080/",
          "height": 562
        },
        "outputId": "e1567356-080e-4b2a-d7bc-fbf3f5c327c1"
      },
      "execution_count": null,
      "outputs": [
        {
          "output_type": "stream",
          "name": "stderr",
          "text": [
            "<ipython-input-11-6c4c5149f28a>:17: MatplotlibDeprecationWarning: Unable to determine Axes to steal space for Colorbar. Using gca(), but will raise in the future. Either provide the *cax* argument to use as the Axes for the Colorbar, provide the *ax* argument to steal space from it, or add *mappable* to an Axes.\n",
            "  cbar = plt.colorbar(sm)\n"
          ]
        },
        {
          "output_type": "display_data",
          "data": {
            "text/plain": [
              "<Figure size 1000x500 with 2 Axes>"
            ],
            "image/png": "[encoded data removed]"
          },
          "metadata": {}
        }
      ]
    },
    {
      "cell_type": "code",
      "source": [
        "#scoring with MCC\n",
        "gene_metaheuristics = {}\n",
        "mcc_scores = {}\n",
        "\n",
        "for index, row in df.iterrows():\n",
        "    metaheuristic = row['Metaheuristics']\n",
        "   # genes = row['Genes'].split('\\n')\n",
        "    genes = row['Gene Symbol'].split(',')\n",
        "    mcc = row['MCC']\n",
        "\n",
        "    for gene in genes:\n",
        "        gene = gene.strip()\n",
        "        if gene in gene_metaheuristics:\n",
        "            gene_metaheuristics[gene].append(metaheuristic)\n",
        "            mcc_scores[gene] += mcc\n",
        "        else:\n",
        "            gene_metaheuristics[gene] = [metaheuristic]\n",
        "            mcc_scores[gene] = mcc\n",
        "\n",
        "sorted_genes = sorted(gene_metaheuristics.keys(), key=lambda x: mcc_scores[x], reverse=True)\n",
        "\n",
        "top_genes = sorted_genes[:20]\n",
        "\n",
        "for gene in top_genes:\n",
        "    metaheuristics = gene_metaheuristics[gene]\n",
        "    total_mcc = mcc_scores[gene]\n",
        "    print(f\"Gene: {gene}, Metaheuristics: {metaheuristics}, MCC Score: {total_mcc:.4f}\")\n",
        "\n",
        "print(f\"\\nTop {len(top_genes)} genes are:\\n\")\n",
        "for gene in top_genes:\n",
        "        gene = gene.strip()\n",
        "        if gene in top_genes:\n",
        "            print(gene)\n"
      ],
      "metadata": {
        "id": "_2exLT7E6kSI",
        "colab": {
          "base_uri": "https://localhost:8080/",
          "height": 478
        },
        "outputId": "d253b2ca-08e4-437d-dbdc-f4bbd290fdb3"
      },
      "execution_count": null,
      "outputs": [
        {
          "output_type": "error",
          "ename": "KeyError",
          "evalue": "'Gene Symbol'",
          "traceback": [
            "\u001b[0;31m---------------------------------------------------------------------------\u001b[0m",
            "\u001b[0;31mKeyError\u001b[0m                                  Traceback (most recent call last)",
            "\u001b[0;32m/usr/local/lib/python3.10/dist-packages/pandas/core/indexes/base.py\u001b[0m in \u001b[0;36mget_loc\u001b[0;34m(self, key)\u001b[0m\n\u001b[1;32m   3652\u001b[0m         \u001b[0;32mtry\u001b[0m\u001b[0;34m:\u001b[0m\u001b[0;34m\u001b[0m\u001b[0;34m\u001b[0m\u001b[0m\n\u001b[0;32m-> 3653\u001b[0;31m             \u001b[0;32mreturn\u001b[0m \u001b[0mself\u001b[0m\u001b[0;34m.\u001b[0m\u001b[0m_engine\u001b[0m\u001b[0;34m.\u001b[0m\u001b[0mget_loc\u001b[0m\u001b[0;34m(\u001b[0m\u001b[0mcasted_key\u001b[0m\u001b[0;34m)\u001b[0m\u001b[0;34m\u001b[0m\u001b[0;34m\u001b[0m\u001b[0m\n\u001b[0m\u001b[1;32m   3654\u001b[0m         \u001b[0;32mexcept\u001b[0m \u001b[0mKeyError\u001b[0m \u001b[0;32mas\u001b[0m \u001b[0merr\u001b[0m\u001b[0;34m:\u001b[0m\u001b[0;34m\u001b[0m\u001b[0;34m\u001b[0m\u001b[0m\n",
            "\u001b[0;32m/usr/local/lib/python3.10/dist-packages/pandas/_libs/index.pyx\u001b[0m in \u001b[0;36mpandas._libs.index.IndexEngine.get_loc\u001b[0;34m()\u001b[0m\n",
            "\u001b[0;32m/usr/local/lib/python3.10/dist-packages/pandas/_libs/index.pyx\u001b[0m in \u001b[0;36mpandas._libs.index.IndexEngine.get_loc\u001b[0;34m()\u001b[0m\n",
            "\u001b[0;32mpandas/_libs/hashtable_class_helper.pxi\u001b[0m in \u001b[0;36mpandas._libs.hashtable.PyObjectHashTable.get_item\u001b[0;34m()\u001b[0m\n",
            "\u001b[0;32mpandas/_libs/hashtable_class_helper.pxi\u001b[0m in \u001b[0;36mpandas._libs.hashtable.PyObjectHashTable.get_item\u001b[0;34m()\u001b[0m\n",
            "\u001b[0;31mKeyError\u001b[0m: 'Gene Symbol'",
            "\nThe above exception was the direct cause of the following exception:\n",
            "\u001b[0;31mKeyError\u001b[0m                                  Traceback (most recent call last)",
            "\u001b[0;32m<ipython-input-12-53f99a34c17a>\u001b[0m in \u001b[0;36m<cell line: 5>\u001b[0;34m()\u001b[0m\n\u001b[1;32m      6\u001b[0m     \u001b[0mmetaheuristic\u001b[0m \u001b[0;34m=\u001b[0m \u001b[0mrow\u001b[0m\u001b[0;34m[\u001b[0m\u001b[0;34m'Metaheuristics'\u001b[0m\u001b[0;34m]\u001b[0m\u001b[0;34m\u001b[0m\u001b[0;34m\u001b[0m\u001b[0m\n\u001b[1;32m      7\u001b[0m    \u001b[0;31m# genes = row['Genes'].split('\\n')\u001b[0m\u001b[0;34m\u001b[0m\u001b[0;34m\u001b[0m\u001b[0m\n\u001b[0;32m----> 8\u001b[0;31m     \u001b[0mgenes\u001b[0m \u001b[0;34m=\u001b[0m \u001b[0mrow\u001b[0m\u001b[0;34m[\u001b[0m\u001b[0;34m'Gene Symbol'\u001b[0m\u001b[0;34m]\u001b[0m\u001b[0;34m.\u001b[0m\u001b[0msplit\u001b[0m\u001b[0;34m(\u001b[0m\u001b[0;34m','\u001b[0m\u001b[0;34m)\u001b[0m\u001b[0;34m\u001b[0m\u001b[0;34m\u001b[0m\u001b[0m\n\u001b[0m\u001b[1;32m      9\u001b[0m     \u001b[0mmcc\u001b[0m \u001b[0;34m=\u001b[0m \u001b[0mrow\u001b[0m\u001b[0;34m[\u001b[0m\u001b[0;34m'MCC'\u001b[0m\u001b[0;34m]\u001b[0m\u001b[0;34m\u001b[0m\u001b[0;34m\u001b[0m\u001b[0m\n\u001b[1;32m     10\u001b[0m \u001b[0;34m\u001b[0m\u001b[0m\n",
            "\u001b[0;32m/usr/local/lib/python3.10/dist-packages/pandas/core/series.py\u001b[0m in \u001b[0;36m__getitem__\u001b[0;34m(self, key)\u001b[0m\n\u001b[1;32m   1005\u001b[0m \u001b[0;34m\u001b[0m\u001b[0m\n\u001b[1;32m   1006\u001b[0m         \u001b[0;32melif\u001b[0m \u001b[0mkey_is_scalar\u001b[0m\u001b[0;34m:\u001b[0m\u001b[0;34m\u001b[0m\u001b[0;34m\u001b[0m\u001b[0m\n\u001b[0;32m-> 1007\u001b[0;31m             \u001b[0;32mreturn\u001b[0m \u001b[0mself\u001b[0m\u001b[0;34m.\u001b[0m\u001b[0m_get_value\u001b[0m\u001b[0;34m(\u001b[0m\u001b[0mkey\u001b[0m\u001b[0;34m)\u001b[0m\u001b[0;34m\u001b[0m\u001b[0;34m\u001b[0m\u001b[0m\n\u001b[0m\u001b[1;32m   1008\u001b[0m \u001b[0;34m\u001b[0m\u001b[0m\n\u001b[1;32m   1009\u001b[0m         \u001b[0;32mif\u001b[0m \u001b[0mis_hashable\u001b[0m\u001b[0;34m(\u001b[0m\u001b[0mkey\u001b[0m\u001b[0;34m)\u001b[0m\u001b[0;34m:\u001b[0m\u001b[0;34m\u001b[0m\u001b[0;34m\u001b[0m\u001b[0m\n",
            "\u001b[0;32m/usr/local/lib/python3.10/dist-packages/pandas/core/series.py\u001b[0m in \u001b[0;36m_get_value\u001b[0;34m(self, label, takeable)\u001b[0m\n\u001b[1;32m   1114\u001b[0m \u001b[0;34m\u001b[0m\u001b[0m\n\u001b[1;32m   1115\u001b[0m         \u001b[0;31m# Similar to Index.get_value, but we do not fall back to positional\u001b[0m\u001b[0;34m\u001b[0m\u001b[0;34m\u001b[0m\u001b[0m\n\u001b[0;32m-> 1116\u001b[0;31m         \u001b[0mloc\u001b[0m \u001b[0;34m=\u001b[0m \u001b[0mself\u001b[0m\u001b[0;34m.\u001b[0m\u001b[0mindex\u001b[0m\u001b[0;34m.\u001b[0m\u001b[0mget_loc\u001b[0m\u001b[0;34m(\u001b[0m\u001b[0mlabel\u001b[0m\u001b[0;34m)\u001b[0m\u001b[0;34m\u001b[0m\u001b[0;34m\u001b[0m\u001b[0m\n\u001b[0m\u001b[1;32m   1117\u001b[0m \u001b[0;34m\u001b[0m\u001b[0m\n\u001b[1;32m   1118\u001b[0m         \u001b[0;32mif\u001b[0m \u001b[0mis_integer\u001b[0m\u001b[0;34m(\u001b[0m\u001b[0mloc\u001b[0m\u001b[0;34m)\u001b[0m\u001b[0;34m:\u001b[0m\u001b[0;34m\u001b[0m\u001b[0;34m\u001b[0m\u001b[0m\n",
            "\u001b[0;32m/usr/local/lib/python3.10/dist-packages/pandas/core/indexes/base.py\u001b[0m in \u001b[0;36mget_loc\u001b[0;34m(self, key)\u001b[0m\n\u001b[1;32m   3653\u001b[0m             \u001b[0;32mreturn\u001b[0m \u001b[0mself\u001b[0m\u001b[0;34m.\u001b[0m\u001b[0m_engine\u001b[0m\u001b[0;34m.\u001b[0m\u001b[0mget_loc\u001b[0m\u001b[0;34m(\u001b[0m\u001b[0mcasted_key\u001b[0m\u001b[0;34m)\u001b[0m\u001b[0;34m\u001b[0m\u001b[0;34m\u001b[0m\u001b[0m\n\u001b[1;32m   3654\u001b[0m         \u001b[0;32mexcept\u001b[0m \u001b[0mKeyError\u001b[0m \u001b[0;32mas\u001b[0m \u001b[0merr\u001b[0m\u001b[0;34m:\u001b[0m\u001b[0;34m\u001b[0m\u001b[0;34m\u001b[0m\u001b[0m\n\u001b[0;32m-> 3655\u001b[0;31m             \u001b[0;32mraise\u001b[0m \u001b[0mKeyError\u001b[0m\u001b[0;34m(\u001b[0m\u001b[0mkey\u001b[0m\u001b[0;34m)\u001b[0m \u001b[0;32mfrom\u001b[0m \u001b[0merr\u001b[0m\u001b[0;34m\u001b[0m\u001b[0;34m\u001b[0m\u001b[0m\n\u001b[0m\u001b[1;32m   3656\u001b[0m         \u001b[0;32mexcept\u001b[0m \u001b[0mTypeError\u001b[0m\u001b[0;34m:\u001b[0m\u001b[0;34m\u001b[0m\u001b[0;34m\u001b[0m\u001b[0m\n\u001b[1;32m   3657\u001b[0m             \u001b[0;31m# If we have a listlike key, _check_indexing_error will raise\u001b[0m\u001b[0;34m\u001b[0m\u001b[0;34m\u001b[0m\u001b[0m\n",
            "\u001b[0;31mKeyError\u001b[0m: 'Gene Symbol'"
          ]
        }
      ]
    },
    {
      "cell_type": "code",
      "source": [
        "#scoring with ROC\n",
        "gene_metaheuristics = {}\n",
        "roc_scores = {}\n",
        "\n",
        "for index, row in df.iterrows():\n",
        "    metaheuristic = row['Metaheuristics']\n",
        "\n",
        "    genes = row['Gene Symbol'].split(',')\n",
        "    roc = row[' ROC']\n",
        "\n",
        "    for gene in genes:\n",
        "        gene = gene.strip()\n",
        "        if gene in gene_metaheuristics:\n",
        "            gene_metaheuristics[gene].append(metaheuristic)\n",
        "            roc_scores[gene] += roc\n",
        "        else:\n",
        "            gene_metaheuristics[gene] = [metaheuristic]\n",
        "            roc_scores[gene] = roc\n",
        "\n",
        "sorted_genes = sorted(gene_metaheuristics.keys(), key=lambda x: mcc_scores[x], reverse=True)\n",
        "\n",
        "top_genes = sorted_genes[:20]\n",
        "\n",
        "for gene in top_genes:\n",
        "    metaheuristics = gene_metaheuristics[gene]\n",
        "    total_roc = roc_scores[gene]\n",
        "    print(f\"Gene: {gene}, Metaheuristics: {metaheuristics}, MCC Score: {total_roc:.4f}\")\n",
        "\n",
        "print(f\"\\nTop {len(top_genes)} genes are:\\n\")\n",
        "for gene in top_genes:\n",
        "        gene = gene.strip()\n",
        "        if gene in top_genes:\n",
        "            print(gene)\n"
      ],
      "metadata": {
        "id": "OA1Roa8h8mgV"
      },
      "execution_count": null,
      "outputs": []
    },
    {
      "cell_type": "code",
      "execution_count": null,
      "metadata": {
        "id": "ppRlfe1NG4Sv"
      },
      "outputs": [],
      "source": [
        "'''\n",
        "sorted_precision_scores = {}\n",
        "sorted_precision_scores = dict(sorted(precision_scores.items(), key=lambda x: x[1] , reverse=True))\n",
        "genes = list(sorted_precision_scores.keys())[:20]\n",
        "precisions = list(sorted_precision_scores.values())[:20]\n",
        "'''\n",
        "sorted_recall_scores = {}\n",
        "sorted_recall_scores = dict(sorted(recall_scores.items(), key=lambda x: x[1] , reverse=True))\n",
        "genes = list(sorted_recall_scores.keys())[:20]\n",
        "recalls = list(sorted_recall_scores.values())[:20]\n",
        "\n",
        "plt.figure(figsize=(12, 6))\n",
        "plt.barh(genes, recalls, color='green')\n",
        "plt.xlabel('Recall')\n",
        "plt.ylabel('Genes')\n",
        "plt.title(f'Recall based Scoring  of Top {len(top_genes)} genes ')\n",
        "plt.gca().invert_yaxis()  # Invert the y-axis for better readability\n",
        "\n",
        "# Show the graph\n",
        "plt.tight_layout()\n",
        "plt.show()"
      ]
    },
    {
      "cell_type": "code",
      "source": [],
      "metadata": {
        "id": "GXwXOUEIt_U3"
      },
      "execution_count": null,
      "outputs": []
    },
    {
      "cell_type": "code",
      "source": [
        "'''\n",
        "\n",
        "# Your existing code to sort precision scores and get the top 20 genes\n",
        "sorted_precision_scores = dict(sorted(precision_scores.items(), key=lambda x: x[1], reverse=True))\n",
        "genes = list(sorted_precision_scores.keys())[:20]\n",
        "precisions = list(sorted_precision_scores.values())[:20]\n",
        "\n",
        "# Create a 3D bar graph\n",
        "fig = plt.figure(figsize=(12, 6))\n",
        "ax = fig.add_subplot(111, projection='3d')\n",
        "\n",
        "# Define positions for the bars on the x-axis\n",
        "x_positions = np.arange(len(genes))\n",
        "\n",
        "# Create the 3D bars\n",
        "ax.bar(x_positions, precisions, zs=0, zdir='y', width=0.5, color='green')\n",
        "\n",
        "# Set labels and title\n",
        "ax.set_xlabel('Genes')\n",
        "ax.set_ylabel('Precision')\n",
        "ax.set_zlabel('Counts')\n",
        "ax.set_title('3D Bar Graph of Precision Scores for Genes Based on Classifiers')\n",
        "\n",
        "# Invert the y-axis for better readability\n",
        "ax.invert_yaxis()\n",
        "\n",
        "# Show the graph\n",
        "plt.tight_layout()\n",
        "plt.show()\n",
        "'''"
      ],
      "metadata": {
        "id": "Up_v6gc_Sx1c"
      },
      "execution_count": null,
      "outputs": []
    },
    {
      "cell_type": "code",
      "source": [
        "'''\n",
        "top_genes_df = pd.DataFrame({'Gene': top_genes, 'Precision Score': [precision_scores[gene] for gene in top_genes]})\n",
        "\n",
        "\n",
        "plt.figure(figsize=(12, 6))\n",
        "plt.barh(top_genes_df['Gene'], top_genes_df['Precision Score'], color='skyblue')\n",
        "plt.xlabel('Precision Score')\n",
        "plt.ylabel('Genes')\n",
        "plt.title('Precision Scores for Top Genes Based on Metaheuristics')\n",
        "plt.gca().invert_yaxis()\n",
        "plt.tight_layout()\n",
        "plt.show()\n",
        "'''"
      ],
      "metadata": {
        "id": "CtkeKFDbLhgB"
      },
      "execution_count": null,
      "outputs": []
    },
    {
      "cell_type": "code",
      "source": [],
      "metadata": {
        "id": "tY4pFrxEPXcP"
      },
      "execution_count": null,
      "outputs": []
    }
  ],
  "metadata": {
    "colab": {
      "provenance": [],
      "authorship_tag": "ABX9TyPCYrpaoZrE/KH1VZNfSZR0",
      "include_colab_link": true
    },
    "kernelspec": {
      "display_name": "Python 3",
      "name": "python3"
    },
    "language_info": {
      "name": "python"
    }
  },
  "nbformat": 4,
  "nbformat_minor": 0
}